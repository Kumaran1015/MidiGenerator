{
 "cells": [
  {
   "cell_type": "code",
   "execution_count": null,
   "metadata": {
    "collapsed": true
   },
   "outputs": [],
   "source": [
    "import glob\n",
    "import numpy as np\n",
    "import pygame\n",
    "import os\n",
    "import midi\n",
    "import pretty_midi"
   ]
  },
  {
   "cell_type": "code",
   "execution_count": null,
   "metadata": {
    "collapsed": true
   },
   "outputs": [],
   "source": [
    "def  findRange(pattern):\n",
    "    mini = 200\n",
    "    maxi = -1\n",
    "    for i in range(len(pattern)):\n",
    "        if isinstance(pattern[i], midi.NoteEvent):\n",
    "            if(pattern[i].pitch < mini):\n",
    "                mini = pattern[i].pitch\n",
    "            if(pattern[i].pitch > maxi):\n",
    "                maxi = pattern[i].pitch\n",
    "    return maxi-mini,mini"
   ]
  },
  {
   "cell_type": "code",
   "execution_count": null,
   "metadata": {
    "collapsed": true
   },
   "outputs": [],
   "source": [
    "def midiToNoteStateMatrix(pattern,offset):\n",
    "    lowerBound = 0\n",
    "    upperBound = 128\n",
    "    span = upperBound-lowerBound\n",
    "\n",
    "    timeleft = [track[0].tick for track in pattern]\n",
    "\n",
    "    posns = [0 for track in pattern]\n",
    "\n",
    "    statematrix = []\n",
    "    time = 0\n",
    "\n",
    "    state = [0 for x in range(span)]\n",
    "    statematrix.append(state)\n",
    "    condition = True\n",
    "    while condition:\n",
    "        if time % (pattern.resolution / 4) == (pattern.resolution / 8):\n",
    "            # Crossed a note boundary. Create a new state, defaulting to holding notes\n",
    "            oldstate = state\n",
    "            state = [oldstate[x] for x in range(span)]\n",
    "            statematrix.append(state)\n",
    "        for i in range(len(timeleft)): #For each track\n",
    "            if not condition:\n",
    "                break\n",
    "            while timeleft[i] == 0:\n",
    "                track = pattern[i]\n",
    "                pos = posns[i]\n",
    "\n",
    "                evt = track[pos]\n",
    "                if isinstance(evt, midi.NoteEvent):\n",
    "                    if (evt.pitch < lowerBound) or (evt.pitch >= upperBound):\n",
    "                        pass\n",
    "                        # print \"Note {} at time {} out of bounds (ignoring)\".format(evt.pitch, time)\n",
    "                    else:\n",
    "                        if isinstance(evt, midi.NoteOffEvent) or evt.velocity == 0:\n",
    "                            state[evt.pitch + offset] = 0\n",
    "                        else:\n",
    "                            state[evt.pitch + offset] = 1\n",
    "                elif isinstance(evt, midi.TimeSignatureEvent):\n",
    "                    if evt.numerator not in (2, 4):\n",
    "                        # We don't want to worry about non-4 time signatures. Bail early!\n",
    "                        # print \"Found time signature event {}. Bailing!\".format(evt)\n",
    "                        out =  statematrix\n",
    "                        condition = False\n",
    "                        break\n",
    "                try:\n",
    "                    timeleft[i] = track[pos + 1].tick\n",
    "                    posns[i] += 1\n",
    "                except IndexError:\n",
    "                    timeleft[i] = None\n",
    "\n",
    "            if timeleft[i] is not None:\n",
    "                timeleft[i] -= 1\n",
    "\n",
    "        if all(t is None for t in timeleft):\n",
    "            break\n",
    "\n",
    "        time += 1\n",
    "    statematrix = np.asarray(statematrix).tolist()\n",
    "    return statematrix"
   ]
  },
  {
   "cell_type": "code",
   "execution_count": null,
   "metadata": {
    "collapsed": true
   },
   "outputs": [],
   "source": [
    "def noteStateMatrixToMidi(statematrix, name=\"example\", res = 220):\n",
    "    lowerBound = 0\n",
    "    upperBound = 128\n",
    "    span = upperBound-lowerBound\n",
    "\n",
    "    statematrix = np.array(statematrix)\n",
    "    pattern = midi.Pattern(resolution = res)\n",
    "    track = midi.Track()\n",
    "    pattern.append(track)\n",
    "    tickscale = 55\n",
    "    \n",
    "    lastcmdtime = 0\n",
    "    prevstate = [0 for x in range(span)]\n",
    "    for time, state in enumerate(np.vstack((statematrix ,prevstate))):  \n",
    "        offNotes = []\n",
    "        onNotes = []\n",
    "        for i in range(span):\n",
    "            n = state[i]\n",
    "            p = prevstate[i]\n",
    "            if p == 1:\n",
    "                if n == 0:\n",
    "                    offNotes.append(i)\n",
    "                elif n == 1:\n",
    "                    pass\n",
    "            elif n == 1:\n",
    "                onNotes.append(i)\n",
    "        for note in offNotes:\n",
    "            track.append(midi.NoteOffEvent(tick=(time-lastcmdtime)*tickscale, pitch=note+lowerBound))\n",
    "            lastcmdtime = time\n",
    "        for note in onNotes:\n",
    "            track.append(midi.NoteOnEvent(tick=(time-lastcmdtime)*tickscale, velocity=120, pitch=note+lowerBound))\n",
    "            lastcmdtime = time\n",
    "            \n",
    "        prevstate = state\n",
    "    \n",
    "    eot = midi.EndOfTrackEvent(tick=1)\n",
    "    track.append(eot)\n",
    "    return pattern\n",
    "    #midi.write_midifile(\"{}.mid\".format(name), pattern)"
   ]
  },
  {
   "cell_type": "code",
   "execution_count": null,
   "metadata": {
    "collapsed": true
   },
   "outputs": [],
   "source": [
    "def splitIntoBar(stateMatrix):\n",
    "    (rows,cols) = stateMatrix.shape\n",
    "    ret = []\n",
    "    ret2 = []\n",
    "    flag = False\n",
    "    for j in range(12):\n",
    "        n = np.zeros((rows,cols))\n",
    "        for k in range(rows):\n",
    "            pos = np.argmax(stateMatrix[k])\n",
    "            if pos <= 59:\n",
    "                base = 48\n",
    "            else:\n",
    "                base = 60\n",
    "            n[k , (pos+1)%12 + base] = 1\n",
    "        stateMatrix = n\n",
    "        i = 1\n",
    "        while rows >= i*16:\n",
    "            midi.write_midifile(\"chroma_temp.mid\", noteStateMatrixToMidi(stateMatrix[(i)*16-16 : (i)*16,:]))\n",
    "            midi_data = pretty_midi.PrettyMIDI('chroma_temp.mid')\n",
    "            try:\n",
    "                chroma = midi_data.get_chroma(fs=1.0/midi_data.get_end_time())\n",
    "                ret.append([stateMatrix[(i)*16-16 : (i)*16,:]])\n",
    "                ret2.append(chroma)\n",
    "            except ZeroDivisionError:\n",
    "                flag = True\n",
    "            i += 1\n",
    "        return np.asarray(ret), np.asarray(ret2), flag"
   ]
  },
  {
   "cell_type": "code",
   "execution_count": null,
   "metadata": {
    "scrolled": true
   },
   "outputs": [],
   "source": [
    "cnt = 0\n",
    "errors = 0\n",
    "ignored = 0\n",
    "Cur_X = []\n",
    "chromaVec = []\n",
    "for root, subFolders, files in os.walk('../TheoryTab'):\n",
    "        for f in files:\n",
    "            if '.mid' in f:\n",
    "                try:\n",
    "                    pattern = midi.read_midifile(os.path.join(root, f))\n",
    "                    cnt += 1\n",
    "                    print \"Processing file \",f,\"#\", cnt\n",
    "                    p = midi.Pattern(resolution = pattern.resolution)\n",
    "                    if len(pattern) < 2:\n",
    "                        print f, 'missing melody track'\n",
    "                        errors += 1\n",
    "                        continue\n",
    "                    p.append(pattern[0])\n",
    "                    p.append(pattern[1])\n",
    "                    span, mini = findRange(pattern[1])\n",
    "                    if span <= 24:\n",
    "                        stateMatrix = np.array(midiToNoteStateMatrix(p, 48 - mini))\n",
    "                        res, res2, flag = splitIntoBar(stateMatrix)\n",
    "                        Cur_X.extend(res)\n",
    "                        chromaVec.extend(res2)\n",
    "                        if flag == True:\n",
    "                            ignored += 1\n",
    "                except TypeError:\n",
    "                    print f, 'raised error'\n",
    "                    errors += 1\n",
    "\n",
    "print errors, ignored, cnt"
   ]
  },
  {
   "cell_type": "code",
   "execution_count": null,
   "metadata": {},
   "outputs": [],
   "source": [
    "Cur_X = np.asarray(Cur_X)\n",
    "print Cur_X.shape\n",
    "chromaVec = np.asarray(chromaVec)\n",
    "print chromaVec.shape"
   ]
  },
  {
   "cell_type": "code",
   "execution_count": null,
   "metadata": {
    "collapsed": true
   },
   "outputs": [],
   "source": [
    "np.save('Cur_X2',Cur_X)\n",
    "np.save('chromaVec2',chromaVec)"
   ]
  },
  {
   "cell_type": "code",
   "execution_count": null,
   "metadata": {
    "collapsed": true
   },
   "outputs": [],
   "source": [
    "pygame.init()\n",
    "def play(midiFile):\n",
    "    pygame.mixer.music.load(midiFile)\n",
    "    pygame.mixer.music.play()"
   ]
  },
  {
   "cell_type": "code",
   "execution_count": null,
   "metadata": {},
   "outputs": [],
   "source": [
    "#playing the resultant midi produced by the generator.\n",
    "result = np.load('result.npy')\n",
    "print result.shape\n",
    "song = noteStateMatrixToMidi(result)\n",
    "midi.write_midifile(\"result_tune.mid\", song)\n",
    "play('result_tune.mid')"
   ]
  },
  {
   "cell_type": "code",
   "execution_count": null,
   "metadata": {
    "collapsed": true
   },
   "outputs": [],
   "source": []
  }
 ],
 "metadata": {
  "anaconda-cloud": {},
  "kernelspec": {
   "display_name": "Python [default]",
   "language": "python",
   "name": "python2"
  },
  "language_info": {
   "codemirror_mode": {
    "name": "ipython",
    "version": 2
   },
   "file_extension": ".py",
   "mimetype": "text/x-python",
   "name": "python",
   "nbconvert_exporter": "python",
   "pygments_lexer": "ipython2",
   "version": "2.7.12"
  }
 },
 "nbformat": 4,
 "nbformat_minor": 2
}
